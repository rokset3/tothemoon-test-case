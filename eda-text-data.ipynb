{
 "cells": [
  {
   "cell_type": "code",
   "execution_count": 3,
   "metadata": {},
   "outputs": [],
   "source": [
    "import pandas as pd\n",
    "data = pd.read_csv('coin_tweets_share.csv')"
   ]
  },
  {
   "cell_type": "code",
   "execution_count": 4,
   "metadata": {},
   "outputs": [
    {
     "data": {
      "text/html": [
       "<div>\n",
       "<style scoped>\n",
       "    .dataframe tbody tr th:only-of-type {\n",
       "        vertical-align: middle;\n",
       "    }\n",
       "\n",
       "    .dataframe tbody tr th {\n",
       "        vertical-align: top;\n",
       "    }\n",
       "\n",
       "    .dataframe thead th {\n",
       "        text-align: right;\n",
       "    }\n",
       "</style>\n",
       "<table border=\"1\" class=\"dataframe\">\n",
       "  <thead>\n",
       "    <tr style=\"text-align: right;\">\n",
       "      <th></th>\n",
       "      <th>timestamp</th>\n",
       "      <th>post_text</th>\n",
       "    </tr>\n",
       "  </thead>\n",
       "  <tbody>\n",
       "    <tr>\n",
       "      <th>0</th>\n",
       "      <td>2023-01-01 12:24:00</td>\n",
       "      <td>\"AAVE coin continues to gain attention within ...</td>\n",
       "    </tr>\n",
       "    <tr>\n",
       "      <th>1</th>\n",
       "      <td>2023-01-01 13:36:00</td>\n",
       "      <td>\"Exploring $AAVE: A DeFi staple known for its ...</td>\n",
       "    </tr>\n",
       "    <tr>\n",
       "      <th>2</th>\n",
       "      <td>2023-01-01 15:42:00</td>\n",
       "      <td>\"🔹 $AAVE continues to make waves in the DeFi s...</td>\n",
       "    </tr>\n",
       "    <tr>\n",
       "      <th>3</th>\n",
       "      <td>2023-01-01 18:38:00</td>\n",
       "      <td>Exploring $AAVE: As a prominent player in the ...</td>\n",
       "    </tr>\n",
       "    <tr>\n",
       "      <th>4</th>\n",
       "      <td>2023-01-01 19:17:00</td>\n",
       "      <td>\"AAVE is continuing to make waves in the decen...</td>\n",
       "    </tr>\n",
       "    <tr>\n",
       "      <th>...</th>\n",
       "      <td>...</td>\n",
       "      <td>...</td>\n",
       "    </tr>\n",
       "    <tr>\n",
       "      <th>10348</th>\n",
       "      <td>2024-10-08 01:02:00</td>\n",
       "      <td>Exploring how AAVE's decentralized lending and...</td>\n",
       "    </tr>\n",
       "    <tr>\n",
       "      <th>10349</th>\n",
       "      <td>2024-10-08 07:49:00</td>\n",
       "      <td>\"AAVE continues to be a prominent player in th...</td>\n",
       "    </tr>\n",
       "    <tr>\n",
       "      <th>10350</th>\n",
       "      <td>2024-10-08 10:23:00</td>\n",
       "      <td>\"Exploring the dynamic world of DeFi, $AAVE co...</td>\n",
       "    </tr>\n",
       "    <tr>\n",
       "      <th>10351</th>\n",
       "      <td>2024-10-08 19:57:00</td>\n",
       "      <td>\"🚀 Aave continues to make waves in the DeFi sp...</td>\n",
       "    </tr>\n",
       "    <tr>\n",
       "      <th>10352</th>\n",
       "      <td>2024-10-08 21:07:00</td>\n",
       "      <td>Exploring the evolving landscape of stablecoin...</td>\n",
       "    </tr>\n",
       "  </tbody>\n",
       "</table>\n",
       "<p>10353 rows × 2 columns</p>\n",
       "</div>"
      ],
      "text/plain": [
       "                 timestamp                                          post_text\n",
       "0      2023-01-01 12:24:00  \"AAVE coin continues to gain attention within ...\n",
       "1      2023-01-01 13:36:00  \"Exploring $AAVE: A DeFi staple known for its ...\n",
       "2      2023-01-01 15:42:00  \"🔹 $AAVE continues to make waves in the DeFi s...\n",
       "3      2023-01-01 18:38:00  Exploring $AAVE: As a prominent player in the ...\n",
       "4      2023-01-01 19:17:00  \"AAVE is continuing to make waves in the decen...\n",
       "...                    ...                                                ...\n",
       "10348  2024-10-08 01:02:00  Exploring how AAVE's decentralized lending and...\n",
       "10349  2024-10-08 07:49:00  \"AAVE continues to be a prominent player in th...\n",
       "10350  2024-10-08 10:23:00  \"Exploring the dynamic world of DeFi, $AAVE co...\n",
       "10351  2024-10-08 19:57:00  \"🚀 Aave continues to make waves in the DeFi sp...\n",
       "10352  2024-10-08 21:07:00  Exploring the evolving landscape of stablecoin...\n",
       "\n",
       "[10353 rows x 2 columns]"
      ]
     },
     "execution_count": 4,
     "metadata": {},
     "output_type": "execute_result"
    }
   ],
   "source": [
    "data"
   ]
  }
 ],
 "metadata": {
  "kernelspec": {
   "display_name": "potykal",
   "language": "python",
   "name": "python3"
  },
  "language_info": {
   "codemirror_mode": {
    "name": "ipython",
    "version": 3
   },
   "file_extension": ".py",
   "mimetype": "text/x-python",
   "name": "python",
   "nbconvert_exporter": "python",
   "pygments_lexer": "ipython3",
   "version": "3.12.2"
  }
 },
 "nbformat": 4,
 "nbformat_minor": 2
}
